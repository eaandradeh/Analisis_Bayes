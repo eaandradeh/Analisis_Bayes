{
 "cells": [
  {
   "cell_type": "code",
   "execution_count": 1,
   "id": "a1a66e17-1868-4a22-8a6d-6c1ac9afa5fc",
   "metadata": {},
   "outputs": [
    {
     "name": "stdout",
     "output_type": "stream",
     "text": [
      "La probabilidad de que el paciente tenga covid dados los sintomas es: 0.9999999998295609\n"
     ]
    }
   ],
   "source": [
    "#Probabilidad condicionales de sintomas de COVID-19\n",
    "\n",
    "p_fatiga_given_covid=0.90\n",
    "p_tos_seca_given_covid=0.70\n",
    "p_dificultad_respirar_given_covid=0.60\n",
    "p_dolor_garganta_given_covid=0.50\n",
    "p_dolor_cabeza_given_covid=0.60\n",
    "p_dolor_cuerpo_given_covid=0.50\n",
    "p_escalofrios_given_covid=0.40\n",
    "p_secrecion_nasal_given_covid=0.20\n",
    "p_perdida_sentido_given_covid=0.50\n",
    "p_fiebre_given_covid=0.80\n",
    "p_dolor_pecho_given_covid=0.30\n",
    "\n",
    "#Definir la prevalencia del COVID en la poblacion\n",
    "p_covid=0.05\n",
    "\n",
    "#Definir los sintomas observados en el paciente\n",
    "\n",
    "Sintomas=['Fatiga',\n",
    "          'Tos seca', \n",
    "          'Dificultar para respirar', \n",
    "          'Dolor de garganta', \n",
    "          'Dolor de cabeza', \n",
    "          'Dolor en el cuerpo', \n",
    "          'Escalofrios',\n",
    "          'Secrecion nasal',\n",
    "          'Perdida del sentido del olfato o gusto',\n",
    "          'Fiebre', \n",
    "          'Dolor en el pecho' ]\n",
    "\n",
    "#Calcular la probabilidad de que el paciente tenga covid\n",
    "p_sintomas_given_covid = p_fatiga_given_covid * p_tos_seca_given_covid * p_dificultad_respirar_given_covid * \\\n",
    "                         p_dolor_garganta_given_covid * p_dolor_cabeza_given_covid * p_dolor_cuerpo_given_covid * \\\n",
    "                         p_escalofrios_given_covid * p_secrecion_nasal_given_covid * p_perdida_sentido_given_covid * \\\n",
    "                         p_fiebre_given_covid * p_dolor_pecho_given_covid\n",
    "\n",
    "\n",
    "#Probabilidad de tener los sintomas sin covid\n",
    "p_sintomas_given_NOcovid = 0.05 ** 11\n",
    "\n",
    "p_sintomas = p_sintomas_given_covid * p_covid + p_sintomas_given_NOcovid *( 1 - p_covid)\n",
    "\n",
    "p_covid_given_sintomas = p_sintomas_given_covid * p_covid /p_sintomas\n",
    "\n",
    "print (f\"La probabilidad de que el paciente tenga covid dados los sintomas es: {p_covid_given_sintomas}\")"
   ]
  },
  {
   "cell_type": "code",
   "execution_count": null,
   "id": "081a6c27-1942-4fef-9e94-55db0a148bce",
   "metadata": {},
   "outputs": [],
   "source": []
  }
 ],
 "metadata": {
  "kernelspec": {
   "display_name": "Python 3 (ipykernel)",
   "language": "python",
   "name": "python3"
  },
  "language_info": {
   "codemirror_mode": {
    "name": "ipython",
    "version": 3
   },
   "file_extension": ".py",
   "mimetype": "text/x-python",
   "name": "python",
   "nbconvert_exporter": "python",
   "pygments_lexer": "ipython3",
   "version": "3.10.9"
  }
 },
 "nbformat": 4,
 "nbformat_minor": 5
}
